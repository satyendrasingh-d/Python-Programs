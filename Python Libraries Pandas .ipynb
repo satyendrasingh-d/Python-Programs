{
 "cells": [
  {
   "cell_type": "code",
   "execution_count": 1,
   "id": "46b3d555-1524-4df1-9c2e-d5da6cdf63e2",
   "metadata": {},
   "outputs": [
    {
     "name": "stdout",
     "output_type": "stream",
     "text": [
      "Requirement already satisfied: pandas in c:\\users\\asus\\anaconda\\lib\\site-packages (2.2.2)\n",
      "Requirement already satisfied: numpy>=1.26.0 in c:\\users\\asus\\anaconda\\lib\\site-packages (from pandas) (1.26.4)\n",
      "Requirement already satisfied: python-dateutil>=2.8.2 in c:\\users\\asus\\anaconda\\lib\\site-packages (from pandas) (2.9.0.post0)\n",
      "Requirement already satisfied: pytz>=2020.1 in c:\\users\\asus\\anaconda\\lib\\site-packages (from pandas) (2024.1)\n",
      "Requirement already satisfied: tzdata>=2022.7 in c:\\users\\asus\\anaconda\\lib\\site-packages (from pandas) (2023.3)\n",
      "Requirement already satisfied: six>=1.5 in c:\\users\\asus\\anaconda\\lib\\site-packages (from python-dateutil>=2.8.2->pandas) (1.16.0)\n",
      "Note: you may need to restart the kernel to use updated packages.\n"
     ]
    }
   ],
   "source": [
    "pip install pandas"
   ]
  },
  {
   "cell_type": "code",
   "execution_count": 3,
   "id": "18958383-a4d6-499f-b6b4-d299343c46e2",
   "metadata": {},
   "outputs": [
    {
     "name": "stdout",
     "output_type": "stream",
     "text": [
      "0    10\n",
      "1    20\n",
      "2    30\n",
      "dtype: int64\n"
     ]
    }
   ],
   "source": [
    "# Create of Series \n",
    "import pandas as pd \n",
    "series1 = pd.Series([10,20,30])\n",
    "print(series1)"
   ]
  },
  {
   "cell_type": "code",
   "execution_count": 4,
   "id": "c4c14cf7-2031-4758-a39d-f6918d1538f1",
   "metadata": {},
   "outputs": [
    {
     "name": "stdout",
     "output_type": "stream",
     "text": [
      "2      Kavi\n",
      "8     Shyam\n",
      "10     Ravi\n",
      "dtype: object\n"
     ]
    }
   ],
   "source": [
    "# Example has a numeric index in randam order. \n",
    "series2 = pd.Series([\"Kavi\",\"Shyam\",\"Ravi\"],index=[2,8,10])\n",
    "print(series2)"
   ]
  },
  {
   "cell_type": "code",
   "execution_count": 6,
   "id": "0b296862-ef15-4941-8fb9-c50e57ed41d5",
   "metadata": {},
   "outputs": [
    {
     "name": "stdout",
     "output_type": "stream",
     "text": [
      "0    1\n",
      "1    2\n",
      "2    3\n",
      "3    4\n",
      "dtype: int32\n"
     ]
    }
   ],
   "source": [
    "# Create of Series from Numpy Arrays\n",
    "# Series from one-dimensial (1D) Numpy array:\n",
    "import numpy as np\n",
    "import pandas as pd\n",
    "array1= np.array([1,2,3,4])\n",
    "series3 = pd.Series(array1)\n",
    "print(series3)"
   ]
  },
  {
   "cell_type": "code",
   "execution_count": 7,
   "id": "8b57aec9-f7b3-446b-b2e8-8645f41054af",
   "metadata": {},
   "outputs": [
    {
     "name": "stdout",
     "output_type": "stream",
     "text": [
      "Jan    1\n",
      "Feb    2\n",
      "Mar    3\n",
      "Apr    4\n",
      "dtype: int32\n"
     ]
    }
   ],
   "source": [
    "# We can use letter or string as indices:\n",
    "series4 = pd.Series(array1, index = [\"Jan\",\"Feb\",\"Mar\",\"Apr\"])\n",
    "print(series4)"
   ]
  },
  {
   "cell_type": "code",
   "execution_count": 8,
   "id": "2dfb11f8-18bd-4eb1-9572-3389abc828fe",
   "metadata": {},
   "outputs": [
    {
     "name": "stdout",
     "output_type": "stream",
     "text": [
      "{'India': 'New Delhi', 'UK': 'London', 'Japan': 'Tokyo'}\n"
     ]
    },
    {
     "data": {
      "text/plain": [
       "{'India': 'New Delhi', 'UK': 'London', 'Japan': 'Tokyo'}"
      ]
     },
     "execution_count": 8,
     "metadata": {},
     "output_type": "execute_result"
    }
   ],
   "source": [
    "# Create of Series from Dictionary \n",
    "dict1 = {'India': 'New Delhi', 'UK': 'London', 'Japan': 'Tokyo'}\n",
    "print(dict1)\n",
    "{'India': 'New Delhi', 'UK': 'London', 'Japan': 'Tokyo'}"
   ]
  },
  {
   "cell_type": "code",
   "execution_count": null,
   "id": "8e856d54-a8f7-47a2-905d-5e305a11177a",
   "metadata": {},
   "outputs": [],
   "source": []
  }
 ],
 "metadata": {
  "kernelspec": {
   "display_name": "Python 3 (ipykernel)",
   "language": "python",
   "name": "python3"
  },
  "language_info": {
   "codemirror_mode": {
    "name": "ipython",
    "version": 3
   },
   "file_extension": ".py",
   "mimetype": "text/x-python",
   "name": "python",
   "nbconvert_exporter": "python",
   "pygments_lexer": "ipython3",
   "version": "3.12.4"
  }
 },
 "nbformat": 4,
 "nbformat_minor": 5
}
