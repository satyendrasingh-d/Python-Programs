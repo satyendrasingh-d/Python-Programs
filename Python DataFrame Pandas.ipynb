{
 "cells": [
  {
   "cell_type": "code",
   "execution_count": null,
   "id": "4753688d-f40c-474b-9ffb-e1f5d233637e",
   "metadata": {},
   "outputs": [],
   "source": []
  },
  {
   "cell_type": "code",
   "execution_count": 14,
   "id": "f6dab98d-36df-41e2-bce0-d73cca772212",
   "metadata": {},
   "outputs": [],
   "source": [
    "import pandas as pd\n",
    "import numpy as np"
   ]
  },
  {
   "cell_type": "code",
   "execution_count": 15,
   "id": "482c6f3e-af63-44ef-a62f-f86b9fa45bd9",
   "metadata": {},
   "outputs": [
    {
     "name": "stdout",
     "output_type": "stream",
     "text": [
      "    0\n",
      "0  10\n",
      "1  20\n",
      "2  30\n"
     ]
    }
   ],
   "source": [
    "# Create of DataFrame \n",
    "array1 = np.array([10,20,30])\n",
    "dFrame4 = pd.DataFrame(array1)\n",
    "print(dFrame4)"
   ]
  },
  {
   "cell_type": "code",
   "execution_count": 16,
   "id": "cc0d80ba-93fb-42ae-8a06-b03c3fd7e1de",
   "metadata": {},
   "outputs": [
    {
     "name": "stdout",
     "output_type": "stream",
     "text": [
      "    a   b     c\n",
      "0  10  20   NaN\n",
      "1   5  10  20.0\n"
     ]
    }
   ],
   "source": [
    "# Create of DataFrame from List of Dictionary\n",
    "listdict = [{'a':10,'b':20}, {'a':5,'b':10, 'c':20}]\n",
    "dFramelistdict = pd.DataFrame(listdict)\n",
    "print(dFramelistdict)"
   ]
  },
  {
   "cell_type": "code",
   "execution_count": 17,
   "id": "2ed09a89-5957-4920-90b0-7bb00ec3c34c",
   "metadata": {},
   "outputs": [
    {
     "name": "stdout",
     "output_type": "stream",
     "text": [
      "   0\n",
      "a  1\n",
      "b  2\n",
      "c  3\n",
      "d  4\n",
      "e  5\n"
     ]
    }
   ],
   "source": [
    "# Creation of DataFrame from Series \n",
    "seriesA = pd.Series([1,2,3,4,5],index = ['a','b','c','d','e'])\n",
    "seriesB = pd.Series ([1000,2000,-1000,-5000,1000],index = ['a','b','c','d','e'])\n",
    "dFrame6 = pd.DataFrame(seriesA)\n",
    "print(dFrame6)"
   ]
  },
  {
   "cell_type": "code",
   "execution_count": 18,
   "id": "726350a5-638a-4fb4-ac6c-ef66b04d56c4",
   "metadata": {},
   "outputs": [
    {
     "name": "stdout",
     "output_type": "stream",
     "text": [
      "      a     b     c     d     e\n",
      "0     1     2     3     4     5\n",
      "1  1000  2000 -1000 -5000  1000\n"
     ]
    }
   ],
   "source": [
    "dFrame7 = pd.DataFrame([seriesA,seriesB])\n",
    "print(dFrame7)"
   ]
  },
  {
   "cell_type": "code",
   "execution_count": 19,
   "id": "0d477543-2cf9-4d3d-9d72-f6e43b0b5899",
   "metadata": {},
   "outputs": [
    {
     "name": "stdout",
     "output_type": "stream",
     "text": [
      "         Arnab  Ramit  Sahir  Riya  Mallika\n",
      "Maths       90     90     85    58       98\n",
      "Science     91     50     93    87       78\n",
      "Hindi       97     84     78    65       98\n"
     ]
    }
   ],
   "source": [
    "# Creation of DataFrame from Dictionary of series\n",
    "import pandas as pd\n",
    "ResultSheet={'Arnab': pd.Series([90,91,97],index=['Maths','Science','Hindi']),\n",
    "'Ramit': pd.Series([90,50,84],index=['Maths','Science','Hindi']),\n",
    "'Sahir': pd.Series([85,93,78],index=['Maths','Science','Hindi']),\n",
    "'Riya': pd.Series([58,87,65],index=['Maths','Science','Hindi']),\n",
    "'Mallika': pd.Series([98,78,98],index=['Maths','Science','Hindi'])}\n",
    "ResultDF = pd.DataFrame(ResultSheet)\n",
    "print(ResultDF)"
   ]
  },
  {
   "cell_type": "code",
   "execution_count": 20,
   "id": "1e110de6-e5d5-4b26-9854-ad5a45cec894",
   "metadata": {},
   "outputs": [
    {
     "name": "stdout",
     "output_type": "stream",
     "text": [
      "         Arnab  Ramit  Sahir  Riya  Mallika  Jimmy\n",
      "Maths       90     90     85    58       98     55\n",
      "Science     91     50     93    87       78     78\n",
      "Hindi       97     84     78    65       98     88\n"
     ]
    }
   ],
   "source": [
    "# Adding a New Column to a DataFrame\n",
    "ResultDF['Jimmy']=[55,78,88]\n",
    "print(ResultDF)"
   ]
  },
  {
   "cell_type": "code",
   "execution_count": 21,
   "id": "c0f3a9e2-0f1b-4972-9c7b-f995102750a5",
   "metadata": {},
   "outputs": [
    {
     "name": "stdout",
     "output_type": "stream",
     "text": [
      "         Arnab  Ramit  Sahir  Riya  Mallika  Jimmy\n",
      "Maths       90     90     85    58       98     55\n",
      "Science     91     50     93    87       78     78\n",
      "Hindi       97     84     78    65       98     88\n",
      "English     87     75     89    84       86     68\n"
     ]
    }
   ],
   "source": [
    "# Adding a New Row to a DataFrame \n",
    "# DataFrame .loc[] method can also be used to change the Data values of a Row. \n",
    "ResultDF.loc['English'] = [87,75,89,84,86,68]\n",
    "print(ResultDF)"
   ]
  },
  {
   "cell_type": "code",
   "execution_count": 22,
   "id": "9e9d42f7-0745-43e4-8a83-0c9ccf0e3e74",
   "metadata": {},
   "outputs": [
    {
     "name": "stdout",
     "output_type": "stream",
     "text": [
      "         Arnab  Ramit  Sahir  Riya  Mallika  Jimmy\n",
      "Maths       90     90     85    58       98     55\n",
      "Science     91     50     93    87       78     78\n",
      "English     87     75     89    84       86     68\n"
     ]
    }
   ],
   "source": [
    "# Delete Rows or Coloumn from a DataFrame \n",
    "# Delete the Rows with the label 'Hindi'\n",
    "ResultDF = ResultDF.drop('Hindi',axis=0)\n",
    "print(ResultDF)"
   ]
  },
  {
   "cell_type": "code",
   "execution_count": 10,
   "id": "22524824-f427-447b-8304-b114bcd1d67b",
   "metadata": {},
   "outputs": [
    {
     "name": "stdout",
     "output_type": "stream",
     "text": [
      "         Arnab  Sahir  Mallika  Jimmy\n",
      "Maths       90     85       98     55\n",
      "Science     91     93       78     78\n",
      "English     87     89       86     68\n"
     ]
    }
   ],
   "source": [
    "# Delete the Coloumn having labels 'Ramit' and 'Riya'\n",
    "ResultDF = ResultDF.drop(['Ramit','Riya'], axis=1)\n",
    "print(ResultDF)"
   ]
  },
  {
   "cell_type": "code",
   "execution_count": 26,
   "id": "a311a64f-2245-4777-b3ea-0054f97d4dff",
   "metadata": {},
   "outputs": [
    {
     "name": "stdout",
     "output_type": "stream",
     "text": [
      "      Arnab  Ramit  Sahir  Riya  Mallika  Jimmy\n",
      "Sub1     90     90     85    58       98     55\n",
      "Sub2     91     50     93    87       78     78\n",
      "Sub3     87     75     89    84       86     68\n"
     ]
    }
   ],
   "source": [
    "# Rename Row labels of a DataFrame\n",
    "# TO rename the Row.\n",
    "ResultDF = ResultDF.rename({'Maths':'Sub1','Science':'Sub2','English':'Sub3'})\n",
    "print(ResultDF)"
   ]
  },
  {
   "cell_type": "code",
   "execution_count": 27,
   "id": "90d05dbc-2820-4c2e-9f04-c777c6559a6a",
   "metadata": {},
   "outputs": [
    {
     "data": {
      "text/plain": [
       "Arnab      87\n",
       "Ramit      75\n",
       "Sahir      89\n",
       "Riya       84\n",
       "Mallika    86\n",
       "Jimmy      68\n",
       "Name: Sub3, dtype: int64"
      ]
     },
     "execution_count": 27,
     "metadata": {},
     "output_type": "execute_result"
    }
   ],
   "source": [
    "# Accessing Dataframe Element through Indexing \n",
    "# Label Based Indexing \n",
    "ResultDF.loc['Sub3']"
   ]
  },
  {
   "cell_type": "code",
   "execution_count": null,
   "id": "72c300b9-e7bc-4501-af4c-8acfb00c7567",
   "metadata": {},
   "outputs": [],
   "source": []
  }
 ],
 "metadata": {
  "kernelspec": {
   "display_name": "Python 3 (ipykernel)",
   "language": "python",
   "name": "python3"
  },
  "language_info": {
   "codemirror_mode": {
    "name": "ipython",
    "version": 3
   },
   "file_extension": ".py",
   "mimetype": "text/x-python",
   "name": "python",
   "nbconvert_exporter": "python",
   "pygments_lexer": "ipython3",
   "version": "3.12.4"
  }
 },
 "nbformat": 4,
 "nbformat_minor": 5
}
